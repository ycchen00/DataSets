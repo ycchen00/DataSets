{
  "nbformat": 4,
  "nbformat_minor": 0,
  "metadata": {
    "colab": {
      "provenance": [],
      "collapsed_sections": [],
      "toc_visible": true
    },
    "kernelspec": {
      "name": "python3",
      "display_name": "Python 3"
    },
    "language_info": {
      "name": "python"
    }
  },
  "cells": [
    {
      "cell_type": "markdown",
      "source": [
        "**[DataSet (Links to an external site.)](https://github.com/DataGlacier/DataSets.git \"Link\")**\n"
      ],
      "metadata": {
        "id": "x5O76BCUOK2V"
      }
    },
    {
      "cell_type": "markdown",
      "source": [
        "# Packages"
      ],
      "metadata": {
        "id": "Mf2Uam0EMw5_"
      }
    },
    {
      "cell_type": "code",
      "execution_count": null,
      "metadata": {
        "colab": {
          "base_uri": "https://localhost:8080/"
        },
        "id": "ArjjrwcTMtIP",
        "outputId": "a00b7cbe-0ea2-41eb-a28c-f4c8c4fc32e4"
      },
      "outputs": [
        {
          "output_type": "stream",
          "name": "stdout",
          "text": [
            "Mounted at /content/drive\n",
            "/content/drive/My Drive/Glacier-W2-EDA\n",
            "DataSets-main  EDA.ipynb  preprocess.py  __pycache__\n"
          ]
        }
      ],
      "source": [
        "# import libraries\n",
        "import re\n",
        "import sys\n",
        "import random\n",
        "import pickle\n",
        "import numpy as np\n",
        "import pandas as pd\n",
        "import seaborn as sns\n",
        "import matplotlib as mpl\n",
        "from copy import deepcopy\n",
        "import matplotlib.pyplot as plt\n",
        "\n",
        "from pandasql import sqldf\n",
        "pysqldf = lambda q: sqldf(q, globals())\n",
        "\n",
        "from datetime import datetime,date\n",
        "\n",
        "# connect google drive\n",
        "def warn(*args, **kwargs):\n",
        "    pass\n",
        "import warnings\n",
        "warnings.warn = warn\n",
        "\n",
        "mpl.rcParams['font.sans-serif'] = ['SimHei']\n",
        "%matplotlib inline\n",
        "# %matplotlib notebook\n",
        "sns.set()\n",
        "\n",
        "from google.colab import drive\n",
        "drive.mount('/content/drive')\n",
        "\n",
        "sys.path.append('/content/drive/My Drive/Glacier-W2-EDA')\n",
        "\n",
        "from preprocess import *\n",
        "\n",
        "%cd /content/drive/My Drive/Glacier-W2-EDA/\n",
        "\n",
        "!ls"
      ]
    },
    {
      "cell_type": "markdown",
      "source": [
        "# Load and clean"
      ],
      "metadata": {
        "id": "D_sORd9UMtdf"
      }
    },
    {
      "cell_type": "code",
      "source": [
        "data_path=\"DataSets-main/\"\n",
        "start_date=\"31/01/2016\"\n",
        "end_date=\"31/12/2018\"\n",
        "\n",
        "df_cab=pd.read_csv(data_path+\"Cab_Data.csv\")\n",
        "df_city=pd.read_csv(data_path+\"City.csv\")\n",
        "df_cum=pd.read_csv(data_path+\"Customer_ID.csv\")\n",
        "df_tran=pd.read_csv(data_path+\"Transaction_ID.csv\")\n",
        "\n",
        "df_1=pd.merge(df_cab,df_city,on=\"City\")\n",
        "df_2=pd.merge(df_tran,df_cum,on=\"Customer ID\")\n",
        "df=pd.merge(df_1,df_2,on=\"Transaction ID\").sort_values(by=['Transaction ID'])\n",
        "\n",
        "df.set_index('Transaction ID', inplace=True)\n",
        "df[\"Date of Travel\"]=df[\"Date of Travel\"].apply(lambda x: date.fromordinal(date.toordinal(date(2016,1,1))+x-42370))\n",
        "df[\"Profit\"]=df[\"Price Charged\"]-df[\"Cost of Trip\"]\n",
        "df[\"Cost per KM\"]=df[\"Cost of Trip\"]/df[\"KM Travelled\"]\n",
        "df[\"Price per KM\"]=df[\"Price Charged\"]/df[\"KM Travelled\"]\n",
        "df[\"Profit per KM\"]=df[\"Profit\"]/df[\"KM Travelled\"]\n",
        "\n",
        "df[\"Population\"]=df[\"Population\"].str.replace(\",\",\"\").astype('int64')\n",
        "\n",
        "df[\"Date\"]=pd.to_datetime(df[\"Date of Travel\"])\n",
        "df[\"Year\"]=df[\"Date\"].dt.year\n",
        "df[\"Month\"]=df[\"Date\"].dt.month\n",
        "df[\"Day of week\"]=df[\"Date\"].dt.dayofweek # Mon:0 Sun:6\n",
        "\n",
        "# df.to_csv(data_path+\"merge.csv\")"
      ],
      "metadata": {
        "id": "yYwpNa8sNna_"
      },
      "execution_count": null,
      "outputs": []
    },
    {
      "cell_type": "code",
      "source": [
        "# colnames\n",
        "colnames=df.columns\n",
        "de_colnames=\"Company\"\n",
        "# inde_colnames=list(set(raw_df_mat.columns).difference(set(de_colnames)))\n",
        "inde_colnames=[col for col in colnames if col not in de_colnames]\n",
        "\n",
        "num_colnames=[]\n",
        "str_colnames=[]\n",
        "for col in colnames:\n",
        "    if df[col].dtype in ['object','<M8[ns]']:\n",
        "        str_colnames.append(col)\n",
        "    else:\n",
        "        num_colnames.append(col)\n",
        "\n",
        "print(str_colnames)\n",
        "print(num_colnames)"
      ],
      "metadata": {
        "colab": {
          "base_uri": "https://localhost:8080/"
        },
        "id": "n4H8pzREansc",
        "outputId": "75e7d9b2-c833-4c7e-8b48-1be8ee1e387d"
      },
      "execution_count": null,
      "outputs": [
        {
          "output_type": "stream",
          "name": "stdout",
          "text": [
            "['Company', 'City', 'Population', 'Users', 'Payment_Mode', 'Gender']\n",
            "['Transaction ID', 'Date of Travel', 'KM Travelled', 'Price Charged', 'Cost of Trip', 'Customer ID', 'Age', 'Income (USD/Month)']\n"
          ]
        }
      ]
    },
    {
      "cell_type": "code",
      "source": [
        "def head_df(df):\n",
        "    print(df.shape)\n",
        "    return df.head()"
      ],
      "metadata": {
        "id": "bFlVYaeeO148"
      },
      "execution_count": null,
      "outputs": []
    },
    {
      "cell_type": "code",
      "source": [
        "head_df(df)"
      ],
      "metadata": {
        "colab": {
          "base_uri": "https://localhost:8080/",
          "height": 404
        },
        "id": "oM3p4d1PYtu_",
        "outputId": "7db454f7-14cf-4be3-cc07-b487eb233b16"
      },
      "execution_count": null,
      "outputs": [
        {
          "output_type": "stream",
          "name": "stdout",
          "text": [
            "(359392, 14)\n"
          ]
        },
        {
          "output_type": "execute_result",
          "data": {
            "text/plain": [
              "   Transaction ID Date of Travel   Company        City  KM Travelled  \\\n",
              "0        10000011     2016-01-08  Pink Cab  ATLANTA GA         30.45   \n",
              "1        10000012     2016-01-06  Pink Cab  ATLANTA GA         28.62   \n",
              "2        10000013     2016-01-02  Pink Cab  ATLANTA GA          9.04   \n",
              "3        10000014     2016-01-07  Pink Cab  ATLANTA GA         33.17   \n",
              "4        10000015     2016-01-03  Pink Cab  ATLANTA GA          8.73   \n",
              "\n",
              "   Price Charged  Cost of Trip Population     Users  Customer ID Payment_Mode  \\\n",
              "0         370.95       313.635   814,885    24,701         29290         Card   \n",
              "1         358.52       334.854   814,885    24,701         27703         Card   \n",
              "2         125.20        97.632   814,885    24,701         28712         Cash   \n",
              "3         377.40       351.602   814,885    24,701         28020         Cash   \n",
              "4         114.62        97.776   814,885    24,701         27182         Card   \n",
              "\n",
              "  Gender  Age  Income (USD/Month)  \n",
              "0   Male   28               10813  \n",
              "1   Male   27                9237  \n",
              "2   Male   53               11242  \n",
              "3   Male   23               23327  \n",
              "4   Male   33                8536  "
            ],
            "text/html": [
              "\n",
              "  <div id=\"df-fe6baa81-5e56-4a79-aa8c-bbc57b2ac719\">\n",
              "    <div class=\"colab-df-container\">\n",
              "      <div>\n",
              "<style scoped>\n",
              "    .dataframe tbody tr th:only-of-type {\n",
              "        vertical-align: middle;\n",
              "    }\n",
              "\n",
              "    .dataframe tbody tr th {\n",
              "        vertical-align: top;\n",
              "    }\n",
              "\n",
              "    .dataframe thead th {\n",
              "        text-align: right;\n",
              "    }\n",
              "</style>\n",
              "<table border=\"1\" class=\"dataframe\">\n",
              "  <thead>\n",
              "    <tr style=\"text-align: right;\">\n",
              "      <th></th>\n",
              "      <th>Transaction ID</th>\n",
              "      <th>Date of Travel</th>\n",
              "      <th>Company</th>\n",
              "      <th>City</th>\n",
              "      <th>KM Travelled</th>\n",
              "      <th>Price Charged</th>\n",
              "      <th>Cost of Trip</th>\n",
              "      <th>Population</th>\n",
              "      <th>Users</th>\n",
              "      <th>Customer ID</th>\n",
              "      <th>Payment_Mode</th>\n",
              "      <th>Gender</th>\n",
              "      <th>Age</th>\n",
              "      <th>Income (USD/Month)</th>\n",
              "    </tr>\n",
              "  </thead>\n",
              "  <tbody>\n",
              "    <tr>\n",
              "      <th>0</th>\n",
              "      <td>10000011</td>\n",
              "      <td>2016-01-08</td>\n",
              "      <td>Pink Cab</td>\n",
              "      <td>ATLANTA GA</td>\n",
              "      <td>30.45</td>\n",
              "      <td>370.95</td>\n",
              "      <td>313.635</td>\n",
              "      <td>814,885</td>\n",
              "      <td>24,701</td>\n",
              "      <td>29290</td>\n",
              "      <td>Card</td>\n",
              "      <td>Male</td>\n",
              "      <td>28</td>\n",
              "      <td>10813</td>\n",
              "    </tr>\n",
              "    <tr>\n",
              "      <th>1</th>\n",
              "      <td>10000012</td>\n",
              "      <td>2016-01-06</td>\n",
              "      <td>Pink Cab</td>\n",
              "      <td>ATLANTA GA</td>\n",
              "      <td>28.62</td>\n",
              "      <td>358.52</td>\n",
              "      <td>334.854</td>\n",
              "      <td>814,885</td>\n",
              "      <td>24,701</td>\n",
              "      <td>27703</td>\n",
              "      <td>Card</td>\n",
              "      <td>Male</td>\n",
              "      <td>27</td>\n",
              "      <td>9237</td>\n",
              "    </tr>\n",
              "    <tr>\n",
              "      <th>2</th>\n",
              "      <td>10000013</td>\n",
              "      <td>2016-01-02</td>\n",
              "      <td>Pink Cab</td>\n",
              "      <td>ATLANTA GA</td>\n",
              "      <td>9.04</td>\n",
              "      <td>125.20</td>\n",
              "      <td>97.632</td>\n",
              "      <td>814,885</td>\n",
              "      <td>24,701</td>\n",
              "      <td>28712</td>\n",
              "      <td>Cash</td>\n",
              "      <td>Male</td>\n",
              "      <td>53</td>\n",
              "      <td>11242</td>\n",
              "    </tr>\n",
              "    <tr>\n",
              "      <th>3</th>\n",
              "      <td>10000014</td>\n",
              "      <td>2016-01-07</td>\n",
              "      <td>Pink Cab</td>\n",
              "      <td>ATLANTA GA</td>\n",
              "      <td>33.17</td>\n",
              "      <td>377.40</td>\n",
              "      <td>351.602</td>\n",
              "      <td>814,885</td>\n",
              "      <td>24,701</td>\n",
              "      <td>28020</td>\n",
              "      <td>Cash</td>\n",
              "      <td>Male</td>\n",
              "      <td>23</td>\n",
              "      <td>23327</td>\n",
              "    </tr>\n",
              "    <tr>\n",
              "      <th>4</th>\n",
              "      <td>10000015</td>\n",
              "      <td>2016-01-03</td>\n",
              "      <td>Pink Cab</td>\n",
              "      <td>ATLANTA GA</td>\n",
              "      <td>8.73</td>\n",
              "      <td>114.62</td>\n",
              "      <td>97.776</td>\n",
              "      <td>814,885</td>\n",
              "      <td>24,701</td>\n",
              "      <td>27182</td>\n",
              "      <td>Card</td>\n",
              "      <td>Male</td>\n",
              "      <td>33</td>\n",
              "      <td>8536</td>\n",
              "    </tr>\n",
              "  </tbody>\n",
              "</table>\n",
              "</div>\n",
              "      <button class=\"colab-df-convert\" onclick=\"convertToInteractive('df-fe6baa81-5e56-4a79-aa8c-bbc57b2ac719')\"\n",
              "              title=\"Convert this dataframe to an interactive table.\"\n",
              "              style=\"display:none;\">\n",
              "        \n",
              "  <svg xmlns=\"http://www.w3.org/2000/svg\" height=\"24px\"viewBox=\"0 0 24 24\"\n",
              "       width=\"24px\">\n",
              "    <path d=\"M0 0h24v24H0V0z\" fill=\"none\"/>\n",
              "    <path d=\"M18.56 5.44l.94 2.06.94-2.06 2.06-.94-2.06-.94-.94-2.06-.94 2.06-2.06.94zm-11 1L8.5 8.5l.94-2.06 2.06-.94-2.06-.94L8.5 2.5l-.94 2.06-2.06.94zm10 10l.94 2.06.94-2.06 2.06-.94-2.06-.94-.94-2.06-.94 2.06-2.06.94z\"/><path d=\"M17.41 7.96l-1.37-1.37c-.4-.4-.92-.59-1.43-.59-.52 0-1.04.2-1.43.59L10.3 9.45l-7.72 7.72c-.78.78-.78 2.05 0 2.83L4 21.41c.39.39.9.59 1.41.59.51 0 1.02-.2 1.41-.59l7.78-7.78 2.81-2.81c.8-.78.8-2.07 0-2.86zM5.41 20L4 18.59l7.72-7.72 1.47 1.35L5.41 20z\"/>\n",
              "  </svg>\n",
              "      </button>\n",
              "      \n",
              "  <style>\n",
              "    .colab-df-container {\n",
              "      display:flex;\n",
              "      flex-wrap:wrap;\n",
              "      gap: 12px;\n",
              "    }\n",
              "\n",
              "    .colab-df-convert {\n",
              "      background-color: #E8F0FE;\n",
              "      border: none;\n",
              "      border-radius: 50%;\n",
              "      cursor: pointer;\n",
              "      display: none;\n",
              "      fill: #1967D2;\n",
              "      height: 32px;\n",
              "      padding: 0 0 0 0;\n",
              "      width: 32px;\n",
              "    }\n",
              "\n",
              "    .colab-df-convert:hover {\n",
              "      background-color: #E2EBFA;\n",
              "      box-shadow: 0px 1px 2px rgba(60, 64, 67, 0.3), 0px 1px 3px 1px rgba(60, 64, 67, 0.15);\n",
              "      fill: #174EA6;\n",
              "    }\n",
              "\n",
              "    [theme=dark] .colab-df-convert {\n",
              "      background-color: #3B4455;\n",
              "      fill: #D2E3FC;\n",
              "    }\n",
              "\n",
              "    [theme=dark] .colab-df-convert:hover {\n",
              "      background-color: #434B5C;\n",
              "      box-shadow: 0px 1px 3px 1px rgba(0, 0, 0, 0.15);\n",
              "      filter: drop-shadow(0px 1px 2px rgba(0, 0, 0, 0.3));\n",
              "      fill: #FFFFFF;\n",
              "    }\n",
              "  </style>\n",
              "\n",
              "      <script>\n",
              "        const buttonEl =\n",
              "          document.querySelector('#df-fe6baa81-5e56-4a79-aa8c-bbc57b2ac719 button.colab-df-convert');\n",
              "        buttonEl.style.display =\n",
              "          google.colab.kernel.accessAllowed ? 'block' : 'none';\n",
              "\n",
              "        async function convertToInteractive(key) {\n",
              "          const element = document.querySelector('#df-fe6baa81-5e56-4a79-aa8c-bbc57b2ac719');\n",
              "          const dataTable =\n",
              "            await google.colab.kernel.invokeFunction('convertToInteractive',\n",
              "                                                     [key], {});\n",
              "          if (!dataTable) return;\n",
              "\n",
              "          const docLinkHtml = 'Like what you see? Visit the ' +\n",
              "            '<a target=\"_blank\" href=https://colab.research.google.com/notebooks/data_table.ipynb>data table notebook</a>'\n",
              "            + ' to learn more about interactive tables.';\n",
              "          element.innerHTML = '';\n",
              "          dataTable['output_type'] = 'display_data';\n",
              "          await google.colab.output.renderOutput(dataTable, element);\n",
              "          const docLink = document.createElement('div');\n",
              "          docLink.innerHTML = docLinkHtml;\n",
              "          element.appendChild(docLink);\n",
              "        }\n",
              "      </script>\n",
              "    </div>\n",
              "  </div>\n",
              "  "
            ]
          },
          "metadata": {},
          "execution_count": 126
        }
      ]
    },
    {
      "cell_type": "markdown",
      "source": [
        "# Simple summary stat"
      ],
      "metadata": {
        "id": "wtvuSbkbM5qN"
      }
    },
    {
      "cell_type": "code",
      "source": [
        "show_describe(df)"
      ],
      "metadata": {
        "colab": {
          "base_uri": "https://localhost:8080/"
        },
        "id": "TW0D8CZYZtpT",
        "outputId": "2fefd53a-7f4f-4e60-d624-59e9992c90ff"
      },
      "execution_count": null,
      "outputs": [
        {
          "output_type": "stream",
          "name": "stdout",
          "text": [
            "shape: 359392\n",
            "\n",
            "\n",
            "head info:\n",
            "   Transaction ID Date of Travel   Company        City  KM Travelled  \\\n",
            "0        10000011     2016-01-08  Pink Cab  ATLANTA GA         30.45   \n",
            "1        10000012     2016-01-06  Pink Cab  ATLANTA GA         28.62   \n",
            "2        10000013     2016-01-02  Pink Cab  ATLANTA GA          9.04   \n",
            "3        10000014     2016-01-07  Pink Cab  ATLANTA GA         33.17   \n",
            "4        10000015     2016-01-03  Pink Cab  ATLANTA GA          8.73   \n",
            "\n",
            "   Price Charged  Cost of Trip Population     Users  Customer ID Payment_Mode  \\\n",
            "0         370.95       313.635   814,885    24,701         29290         Card   \n",
            "1         358.52       334.854   814,885    24,701         27703         Card   \n",
            "2         125.20        97.632   814,885    24,701         28712         Cash   \n",
            "3         377.40       351.602   814,885    24,701         28020         Cash   \n",
            "4         114.62        97.776   814,885    24,701         27182         Card   \n",
            "\n",
            "  Gender  Age  Income (USD/Month)  \n",
            "0   Male   28               10813  \n",
            "1   Male   27                9237  \n",
            "2   Male   53               11242  \n",
            "3   Male   23               23327  \n",
            "4   Male   33                8536  \n",
            "\n",
            "describe:\n",
            "       Transaction ID   KM Travelled  Price Charged   Cost of Trip  \\\n",
            "count    3.593920e+05  359392.000000  359392.000000  359392.000000   \n",
            "mean     1.022076e+07      22.567254     423.443311     286.190113   \n",
            "std      1.268058e+05      12.233526     274.378911     157.993661   \n",
            "min      1.000001e+07       1.900000      15.600000      19.000000   \n",
            "25%      1.011081e+07      12.000000     206.437500     151.200000   \n",
            "50%      1.022104e+07      22.440000     386.360000     282.480000   \n",
            "75%      1.033094e+07      32.960000     583.660000     413.683200   \n",
            "max      1.044011e+07      48.000000    2048.030000     691.200000   \n",
            "\n",
            "         Customer ID            Age  Income (USD/Month)  \n",
            "count  359392.000000  359392.000000       359392.000000  \n",
            "mean    19191.652115      35.336705        15048.822937  \n",
            "std     21012.412463      12.594234         7969.409482  \n",
            "min         1.000000      18.000000         2000.000000  \n",
            "25%      2705.000000      25.000000         8424.000000  \n",
            "50%      7459.000000      33.000000        14685.000000  \n",
            "75%     36078.000000      42.000000        21035.000000  \n",
            "max     60000.000000      65.000000        35000.000000  \n",
            "\n",
            "info:\n",
            "<class 'pandas.core.frame.DataFrame'>\n",
            "Int64Index: 359392 entries, 0 to 359391\n",
            "Data columns (total 14 columns):\n",
            " #   Column              Non-Null Count   Dtype         \n",
            "---  ------              --------------   -----         \n",
            " 0   Transaction ID      359392 non-null  int64         \n",
            " 1   Date of Travel      359392 non-null  datetime64[ns]\n",
            " 2   Company             359392 non-null  object        \n",
            " 3   City                359392 non-null  object        \n",
            " 4   KM Travelled        359392 non-null  float64       \n",
            " 5   Price Charged       359392 non-null  float64       \n",
            " 6   Cost of Trip        359392 non-null  float64       \n",
            " 7   Population          359392 non-null  object        \n",
            " 8   Users               359392 non-null  object        \n",
            " 9   Customer ID         359392 non-null  int64         \n",
            " 10  Payment_Mode        359392 non-null  object        \n",
            " 11  Gender              359392 non-null  object        \n",
            " 12  Age                 359392 non-null  int64         \n",
            " 13  Income (USD/Month)  359392 non-null  int64         \n",
            "dtypes: datetime64[ns](1), float64(3), int64(4), object(6)\n",
            "memory usage: 41.1+ MB\n",
            "None\n"
          ]
        }
      ]
    },
    {
      "cell_type": "markdown",
      "source": [
        "non-null columns"
      ],
      "metadata": {
        "id": "FK3z2_aTZ5_y"
      }
    },
    {
      "cell_type": "code",
      "source": [
        "df[\"Company\"].value_counts()\n",
        "\n",
        "df_y=df[df.Company==\"Yellow Cab\"]\n",
        "print(\"Yellow Cab:\", len(df_y))\n",
        "df_p=df[df.Company==\"Pink Cab\"]\n",
        "print(\"Pink Cab:\", len(df_p))"
      ],
      "metadata": {
        "colab": {
          "base_uri": "https://localhost:8080/"
        },
        "id": "PYPHn712b-44",
        "outputId": "1d93717f-f11d-451b-e5b7-886103897e61"
      },
      "execution_count": null,
      "outputs": [
        {
          "output_type": "stream",
          "name": "stdout",
          "text": [
            "274681\n",
            "84711\n"
          ]
        }
      ]
    },
    {
      "cell_type": "code",
      "source": [
        "df[\"Date of Travel\"].hist();"
      ],
      "metadata": {
        "colab": {
          "base_uri": "https://localhost:8080/",
          "height": 285
        },
        "id": "dEh-TojneDK5",
        "outputId": "f6c27f37-2369-417b-df46-acc13bca06a5"
      },
      "execution_count": null,
      "outputs": [
        {
          "output_type": "execute_result",
          "data": {
            "text/plain": [
              "<matplotlib.axes._subplots.AxesSubplot at 0x7fdf3eff2e90>"
            ]
          },
          "metadata": {},
          "execution_count": 141
        },
        {
          "output_type": "display_data",
          "data": {
            "text/plain": [
              "<Figure size 432x288 with 1 Axes>"
            ],
            "image/png": "[encoded data removed]"
          },
          "metadata": {}
        }
      ]
    },
    {
      "cell_type": "code",
      "source": [
        "# for col in [\"Date of Travel\"]+num_colnames:\n",
        "#     df[col].hist();\n",
        "\n",
        "df[[\"Date of Travel\"]+num_colnames].hist(figsize=(16, 16));"
      ],
      "metadata": {
        "colab": {
          "base_uri": "https://localhost:8080/",
          "height": 899
        },
        "id": "UqFFFUPnii8v",
        "outputId": "480bce14-6850-4d91-f9b9-a5265c07b60c"
      },
      "execution_count": null,
      "outputs": [
        {
          "output_type": "display_data",
          "data": {
            "text/plain": [
              "<Figure size 1152x1152 with 9 Axes>"
            ],
            "image/png": "[encoded data removed]"
          },
          "metadata": {}
        }
      ]
    },
    {
      "cell_type": "code",
      "source": [
        "def count_plot()\n",
        "    plt.figure(figsize=(8,6))\n",
        "    sns.countplot(cat_df.G1)\n",
        "    plt.title('Distribution of the First Period Portuguese Language Grade',fontsize=20)\n",
        "    plt.xlabel('First Period Math Grade', fontsize=16)\n",
        "    plt.ylabel('Number of Student', fontsize=16)\n",
        "\n",
        "    plt.savefig(fig_root_path+\"G1_Distribution_P.png\",dpi=dpi)"
      ],
      "metadata": {
        "id": "7erUPcNqlBAx"
      },
      "execution_count": null,
      "outputs": []
    },
    {
      "cell_type": "code",
      "source": [
        "sns.countplot(df.Company);"
      ],
      "metadata": {
        "colab": {
          "base_uri": "https://localhost:8080/",
          "height": 285
        },
        "id": "h9MN8NmhkHAE",
        "outputId": "75450a51-6200-4395-c26c-f589b59a953f"
      },
      "execution_count": null,
      "outputs": [
        {
          "output_type": "display_data",
          "data": {
            "text/plain": [
              "<Figure size 432x288 with 1 Axes>"
            ],
            "image/png": "[encoded data removed]"
          },
          "metadata": {}
        }
      ]
    },
    {
      "cell_type": "markdown",
      "source": [
        "![](https://s3.bmp.ovh/imgs/2022/10/15/3985b1085966c68a.png)"
      ],
      "metadata": {
        "id": "RnIOg0hautLG"
      }
    },
    {
      "cell_type": "markdown",
      "source": [
        "# Profit analysis"
      ],
      "metadata": {
        "id": "FfQ0IUNuNOGv"
      }
    },
    {
      "cell_type": "code",
      "source": [
        "df.groupby(['Year','Company'])[\"Profit per KM\"].agg('mean')  \\\n",
        ".unstack().plot(kind='bar',stacked=True,rot=False);"
      ],
      "metadata": {
        "colab": {
          "base_uri": "https://localhost:8080/",
          "height": 285
        },
        "id": "arAzCn5mpvXZ",
        "outputId": "70f67118-6233-4947-89ba-b682ffbd9705"
      },
      "execution_count": null,
      "outputs": [
        {
          "output_type": "display_data",
          "data": {
            "text/plain": [
              "<Figure size 432x288 with 1 Axes>"
            ],
            "image/png": "[encoded data removed]"
          },
          "metadata": {}
        }
      ]
    },
    {
      "cell_type": "markdown",
      "source": [
        "### How much will cabs earn per KM?"
      ],
      "metadata": {
        "id": "2r6_Z1Rt3_SI"
      }
    },
    {
      "cell_type": "markdown",
      "source": [
        "![](https://s3.bmp.ovh/imgs/2022/10/15/a0bf3072a65248da.png)"
      ],
      "metadata": {
        "id": "W64EmLdmj20Y"
      }
    },
    {
      "cell_type": "markdown",
      "source": [
        "As shown, yellow cab earns at least two times profits than pink cab per KM."
      ],
      "metadata": {
        "id": "39kVbcWM4Gvg"
      }
    },
    {
      "cell_type": "markdown",
      "source": [
        "### What are percentags that a ride can make profit?"
      ],
      "metadata": {
        "id": "spEBtF0A4Ur_"
      }
    },
    {
      "cell_type": "markdown",
      "source": [
        "![](https://s3.bmp.ovh/imgs/2022/10/15/86e29b8c1de5b3a2.png)"
      ],
      "metadata": {
        "id": "9uJubxMutoG3"
      }
    },
    {
      "cell_type": "markdown",
      "source": [
        "After comparison, yellow cab has a higher percentage, which means it is more possible for yellow cab to make a profit for every ride."
      ],
      "metadata": {
        "id": "Uvp30ReW4ah8"
      }
    },
    {
      "cell_type": "markdown",
      "source": [
        "### Profit comparison in total for each year"
      ],
      "metadata": {
        "id": "PneH-Xtf49JF"
      }
    },
    {
      "cell_type": "markdown",
      "source": [
        "![](https://s3.bmp.ovh/imgs/2022/10/15/574c3f233cd0444d.png)"
      ],
      "metadata": {
        "id": "uFOXD4d_tv4P"
      }
    },
    {
      "cell_type": "markdown",
      "source": [
        "Yellow cab makes much higher profits than pink cab."
      ],
      "metadata": {
        "id": "b1oXdCmF5AuV"
      }
    },
    {
      "cell_type": "markdown",
      "source": [
        "# City wise"
      ],
      "metadata": {
        "id": "zp2UdAq4QE9c"
      }
    },
    {
      "cell_type": "markdown",
      "source": [
        "[![xwIsAg.png](https://s1.ax1x.com/2022/10/15/xwIsAg.png)](https://imgse.com/i/xwIsAg)"
      ],
      "metadata": {
        "id": "RSo5S17Kvzom"
      }
    },
    {
      "cell_type": "markdown",
      "source": [
        "### What are the percentages of rides that can make profit in each city?"
      ],
      "metadata": {
        "id": "a8LcR1nY1Fa1"
      }
    },
    {
      "cell_type": "markdown",
      "source": [
        "![](https://s3.bmp.ovh/imgs/2022/10/15/7cf4a21dca007e66.png)"
      ],
      "metadata": {
        "id": "pX_fheyGtsKU"
      }
    },
    {
      "cell_type": "markdown",
      "source": [
        "In comparison to the pinck cab, yellow cab performe better with relatively higher percentages of profitable rides."
      ],
      "metadata": {
        "id": "cUTIlzBY1Shk"
      }
    },
    {
      "cell_type": "markdown",
      "source": [
        "### Which cab has more users in each city?"
      ],
      "metadata": {
        "id": "Wb2SMSra1E6G"
      }
    },
    {
      "cell_type": "markdown",
      "source": [
        "![](https://s3.bmp.ovh/imgs/2022/10/15/007368cc5807e47c.png)"
      ],
      "metadata": {
        "id": "1BVEHqfPuapP"
      }
    },
    {
      "cell_type": "markdown",
      "source": [
        "Percertages of yellow cab in each city is bigger than pink one in 15 cities out of 19. "
      ],
      "metadata": {
        "id": "eZySLw7H2581"
      }
    },
    {
      "cell_type": "markdown",
      "source": [
        "# Gender wise"
      ],
      "metadata": {
        "id": "pwdLBYs4ubYf"
      }
    },
    {
      "cell_type": "markdown",
      "source": [
        "### Does gender effects the profits?"
      ],
      "metadata": {
        "id": "LZADsacT11re"
      }
    },
    {
      "cell_type": "markdown",
      "source": [
        "![](https://s3.bmp.ovh/imgs/2022/10/15/52af5f1babadb161.png)"
      ],
      "metadata": {
        "id": "9y0ORLKht5Er"
      }
    },
    {
      "cell_type": "markdown",
      "source": [
        "As shown, gender does not make difference and there is not distinct difference between two cabs."
      ],
      "metadata": {
        "id": "-UfqiOkP19N9"
      }
    },
    {
      "cell_type": "markdown",
      "source": [
        "# Income wise"
      ],
      "metadata": {
        "id": "bz9GbLWiuCf-"
      }
    },
    {
      "cell_type": "markdown",
      "source": [
        "### Is there any difference of distributions of customer income groups between two cabs?"
      ],
      "metadata": {
        "id": "Jk-W3vgx0hDp"
      }
    },
    {
      "cell_type": "markdown",
      "source": [
        "![](https://s3.bmp.ovh/imgs/2022/10/15/9e1b7e9c220ec67d.png)"
      ],
      "metadata": {
        "id": "Bn2bhJuTuEcd"
      }
    },
    {
      "cell_type": "markdown",
      "source": [
        "![](https://s3.bmp.ovh/imgs/2022/10/15/2c69b3d94596bdff.png)"
      ],
      "metadata": {
        "id": "_wkLoFdSuGrs"
      }
    },
    {
      "cell_type": "markdown",
      "source": [
        "As shown, they are similar. These three classes provide the same contribution to profits."
      ],
      "metadata": {
        "id": "GCxOifuJ0uxz"
      }
    },
    {
      "cell_type": "markdown",
      "source": [
        "# Age wise"
      ],
      "metadata": {
        "id": "2aDnXn3MuKRQ"
      }
    },
    {
      "cell_type": "markdown",
      "source": [
        "### Is there any difference of distributions of customer age groups between two cabs?"
      ],
      "metadata": {
        "id": "8XlbfeOlz-op"
      }
    },
    {
      "cell_type": "markdown",
      "source": [
        "![](https://s3.bmp.ovh/imgs/2022/10/15/95b9645a6c192ead.png)"
      ],
      "metadata": {
        "id": "VD4fzitbuL2M"
      }
    },
    {
      "cell_type": "markdown",
      "source": [
        "![](https://s3.bmp.ovh/imgs/2022/10/15/c416582af579f01a.png)"
      ],
      "metadata": {
        "id": "hDMHaZ30uUP1"
      }
    },
    {
      "cell_type": "markdown",
      "source": [
        "As shown, there is no big difference. Both of two companies cover all age groups with similar distributions."
      ],
      "metadata": {
        "id": "jmLwiORe0KIw"
      }
    },
    {
      "cell_type": "markdown",
      "source": [
        "# Time series wise"
      ],
      "metadata": {
        "id": "Vfx6H8ngQH-Y"
      }
    },
    {
      "cell_type": "code",
      "source": [
        "p=\"\"\"\n",
        "select Company, sum(Year=2016) as '2016', sum(Year=2017) as '2017',sum(Year=2018) as '2018'\n",
        "from df\n",
        "group by Company\n",
        "\"\"\"\n",
        "\n",
        "\n",
        "# \"\"\"\n",
        "# select Company, Profit\n",
        "# from df\n",
        "# limit 10;\n",
        "# \"\"\" \n",
        "\n",
        "temp=pysqldf(p)\n",
        "\n",
        "# pd.crosstab(index=df[\"Company\"],columns=df[\"Year\"])\n",
        "\n",
        "temp.stack().unstack()"
      ],
      "metadata": {
        "id": "5KSxf3TRtwJV"
      },
      "execution_count": null,
      "outputs": []
    },
    {
      "cell_type": "code",
      "source": [
        "temp.plot(kind='bar',stacked=True);"
      ],
      "metadata": {
        "colab": {
          "base_uri": "https://localhost:8080/",
          "height": 334
        },
        "id": "QX2lfYHkuVFi",
        "outputId": "a91cddd8-221e-4884-8288-d41ed60f30c7"
      },
      "execution_count": null,
      "outputs": [
        {
          "output_type": "display_data",
          "data": {
            "text/plain": [
              "<Figure size 432x288 with 1 Axes>"
            ],
            "image/png": "[encoded data removed]"
          },
          "metadata": {}
        }
      ]
    },
    {
      "cell_type": "code",
      "source": [
        "df.groupby(['Year','Company']).size().unstack().plot(kind='bar',stacked=True,rot=False);"
      ],
      "metadata": {
        "colab": {
          "base_uri": "https://localhost:8080/",
          "height": 285
        },
        "id": "43j7KHLLpSsM",
        "outputId": "381b7c76-6620-4229-b91f-76c6d8e72270"
      },
      "execution_count": null,
      "outputs": [
        {
          "output_type": "display_data",
          "data": {
            "text/plain": [
              "<Figure size 432x288 with 1 Axes>"
            ],
            "image/png": "[encoded data removed]"
          },
          "metadata": {}
        }
      ]
    },
    {
      "cell_type": "markdown",
      "source": [
        "![](https://s3.bmp.ovh/imgs/2022/10/15/42519a24f02e0827.png)"
      ],
      "metadata": {
        "id": "8WuVYDB_uwpQ"
      }
    },
    {
      "cell_type": "markdown",
      "source": [
        "### Is there any seasonality in number of cab service and profits in Quarter scale?"
      ],
      "metadata": {
        "id": "2JmjFzECwhgp"
      }
    },
    {
      "cell_type": "markdown",
      "source": [
        "![](https://s3.bmp.ovh/imgs/2022/10/15/f9e744699506cc99.png)"
      ],
      "metadata": {
        "id": "QiTI0Cs8uyRC"
      }
    },
    {
      "cell_type": "markdown",
      "source": [
        "As we can see, seasonality is shown in both cabs. Number of rides rises from Q1 to Q4 and decrease as Q1 comes, which means 4 quarters a cycle."
      ],
      "metadata": {
        "id": "Gwo2zxoYwppP"
      }
    },
    {
      "cell_type": "markdown",
      "source": [
        "![](https://s3.bmp.ovh/imgs/2022/10/15/db8bff08ad4f9a60.png)"
      ],
      "metadata": {
        "id": "TxwbjBJfuz3V"
      }
    },
    {
      "cell_type": "markdown",
      "source": [
        "Similar quarter patterns can be found in terms of Profit."
      ],
      "metadata": {
        "id": "UxXgb1drxIK9"
      }
    },
    {
      "cell_type": "markdown",
      "source": [
        "### Is there any seasonality in number of cab service in month scale?"
      ],
      "metadata": {
        "id": "vZguzMbAyTGv"
      }
    },
    {
      "cell_type": "markdown",
      "source": [
        "![](https://s3.bmp.ovh/imgs/2022/10/15/db53938bf9c199a5.png)"
      ],
      "metadata": {
        "id": "06thkYaMu0rU"
      }
    },
    {
      "cell_type": "markdown",
      "source": [
        "An interesting founding: Number of rides is big on 3rd day of the month and it repeats similar pattern every 7 days."
      ],
      "metadata": {
        "id": "tjjHTQX9xUhm"
      }
    },
    {
      "cell_type": "markdown",
      "source": [
        "### Is there any seasonality in number of customers and rides in day-of-week scale?"
      ],
      "metadata": {
        "id": "2RufQ6tyyYo5"
      }
    },
    {
      "cell_type": "markdown",
      "source": [
        "![](https://s3.bmp.ovh/imgs/2022/10/15/a519393a11b840c9.png)"
      ],
      "metadata": {
        "id": "m2W9tEQdu2H2"
      }
    },
    {
      "cell_type": "markdown",
      "source": [
        "As we go deeper, we can find the fact that on Friday, Saturday, and Sunday, demands and profits are usually much higher than other days of week."
      ],
      "metadata": {
        "id": "l2_sm3ykxi70"
      }
    },
    {
      "cell_type": "markdown",
      "source": [
        "[![xwIyNQ.png](https://s1.ax1x.com/2022/10/15/xwIyNQ.png)](https://imgse.com/i/xwIyNQ)"
      ],
      "metadata": {
        "id": "miiBm0vKvd4o"
      }
    },
    {
      "cell_type": "markdown",
      "source": [
        "# Distance wise"
      ],
      "metadata": {
        "id": "Kgf3C8FVQKKt"
      }
    },
    {
      "cell_type": "markdown",
      "source": [
        "### Is there any preference of cab services among various distances?"
      ],
      "metadata": {
        "id": "f1KQHBiaypUG"
      }
    },
    {
      "cell_type": "markdown",
      "source": [
        "[![xwI6hj.png](https://s1.ax1x.com/2022/10/15/xwI6hj.png)](https://imgse.com/i/xwI6hj)"
      ],
      "metadata": {
        "id": "03lPleHvviIF"
      }
    },
    {
      "cell_type": "markdown",
      "source": [
        "Yellow cab has customers almost uniform for all kinds of Trip, while Pink cab has relatively long trip customers, which means that its service to long trips is not so attractive."
      ],
      "metadata": {
        "id": "9MV9OYaKy9Pb"
      }
    },
    {
      "cell_type": "markdown",
      "source": [
        "# Forecast"
      ],
      "metadata": {
        "id": "bFQ0yK9pQLvk"
      }
    },
    {
      "cell_type": "markdown",
      "source": [
        "[![xwIg9s.png](https://s1.ax1x.com/2022/10/15/xwIg9s.png)](https://imgse.com/i/xwIg9s)\n"
      ],
      "metadata": {
        "id": "1KsBK5NAvnWk"
      }
    },
    {
      "cell_type": "markdown",
      "source": [
        "[![xwI23n.png](https://s1.ax1x.com/2022/10/15/xwI23n.png)](https://imgse.com/i/xwI23n)"
      ],
      "metadata": {
        "id": "eZmJegGrvvuV"
      }
    },
    {
      "cell_type": "markdown",
      "source": [
        "# Conclusion\n",
        "\n",
        "As a result, yellow cab performes better than pink one in many ways and should be chosen for several reasons:\n",
        "1. Yellow cab has much more competitve ability to make a profit.\n",
        "2. Yellow cab covers more users in each city, which means higher potential.\n",
        "3. Yellow cab has good services and cover all kinds of genders, incomes, and age groups.\n",
        "4. There are obvious time patterns that we can dive deep to improve its profits.\n",
        "5. Compared with pink cab, yellow provides better services in long trip and thus more chosen by customers. \n"
      ],
      "metadata": {
        "id": "rHhNtCn8zwAn"
      }
    }
  ]
}